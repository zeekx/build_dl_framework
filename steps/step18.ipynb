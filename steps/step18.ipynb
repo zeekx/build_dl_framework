{
  "cells": [
    {
      "cell_type": "markdown",
      "metadata": {
        "colab_type": "text",
        "id": "view-in-github"
      },
      "source": [
        "<a href=\"https://colab.research.google.com/github/zeekx/build_dl_framework/blob/dev/steps/step18.ipynb\" target=\"_parent\"><img src=\"https://colab.research.google.com/assets/colab-badge.svg\" alt=\"Open In Colab\"/></a>"
      ]
    },
    {
      "cell_type": "markdown",
      "metadata": {
        "id": "nQA4XhIp1aMj"
      },
      "source": [
        "# Backward: vector, x and itself\n",
        "\n",
        "x = Variable(np.array(1.0))\n",
        "y = add(x, x)\n",
        "y.backward()\n",
        "print(\"y=x+x=2x, f'(1)=2, but x.grad=\", x.grad)\n",
        "\n"
      ]
    },
    {
      "cell_type": "code",
      "execution_count": 74,
      "metadata": {
        "id": "t_lOTQ6yDQV9"
      },
      "outputs": [],
      "source": [
        "import numpy as np\n",
        "import heapq\n",
        "import weakref"
      ]
    },
    {
      "cell_type": "code",
      "execution_count": 75,
      "metadata": {
        "id": "XO4z7ZmkDQV-"
      },
      "outputs": [],
      "source": [
        "class Variable:\n",
        "    def __init__(self, data):\n",
        "        if data is not None:\n",
        "          if not isinstance(data, np.ndarray):\n",
        "            raise TypeError('{} is not supported'.format(type(data)))\n",
        "\n",
        "        self.data = data\n",
        "        self.grad = None\n",
        "        self.creator = None\n",
        "        self.generation = 0\n",
        "\n",
        "    def set_creator(self, func):\n",
        "        self.creator = func\n",
        "        self.generation = func.generation + 1\n",
        "\n",
        "    def reset_grad(self):\n",
        "        self.grad = None\n",
        "\n",
        "# a -> f(a) -> b\n",
        "# Variable: b.creator -> f\n",
        "# b.creator -> f -> f.input -> a\n",
        "\n",
        "    def backward(self, retain_grad = False):\n",
        "        def pop_func(alist):\n",
        "            return heapq.heappop(alist)\n",
        "        \n",
        "        def append_func(alist, f):\n",
        "            heapq.heappush(alist, f)\n",
        "\n",
        "        \n",
        "        if self.grad is None:\n",
        "            self.grad = np.ones_like(self.data)\n",
        "        \n",
        "        fs = [self.creator]            \n",
        "        while fs:\n",
        "            f = pop_func(fs)\n",
        "            ygs = [o().grad for o in f.outputs]\n",
        "            xgs = f.backward(*ygs)\n",
        "            if not isinstance(xgs, tuple):\n",
        "                xgs = (xgs,)\n",
        "    \n",
        "            for x, g in zip(f.inputs, xgs):\n",
        "                if x.grad is None:\n",
        "                    x.grad = g\n",
        "                    if x.creator is not None: # append the function once when the var: x first appeared\n",
        "                        append_func(fs, x.creator)\n",
        "                else: # Var:x, is repeated\n",
        "                    x.grad = x.grad + g\n",
        "            \n",
        "            # for the very begin of variables, their backward codes Do NOT reach here, because they don't have any creator\n",
        "            if not retain_grad:\n",
        "                for y in f.outputs:\n",
        "                    y().grad = None # y is a weakref of the output\n"
      ]
    },
    {
      "cell_type": "code",
      "execution_count": 76,
      "metadata": {
        "id": "iAIaqHDfIylW"
      },
      "outputs": [],
      "source": [
        "def as_array(x):\n",
        "    if np.isscalar(x):\n",
        "        return np.array(x)\n",
        "    return x"
      ]
    },
    {
      "cell_type": "code",
      "execution_count": 77,
      "metadata": {},
      "outputs": [],
      "source": [
        "class Config:\n",
        "    enable_backprop = True # backward propagate"
      ]
    },
    {
      "cell_type": "code",
      "execution_count": 78,
      "metadata": {
        "id": "vFFMJsvnDQV_"
      },
      "outputs": [],
      "source": [
        "class Function:\n",
        "    def __init__(self) -> None:\n",
        "        self.generation = 0\n",
        "    \n",
        "    def __lt__(self, other):\n",
        "            return -self.generation < -other.generation\n",
        "    \n",
        "    def __call__(self, *inputs): # input:[x0, x1, ...]@Variable -> [y0, y1, ...]@Variable\n",
        "        self.inputs = inputs\n",
        "        xs = [x.data for x in inputs]\n",
        "        ys = self.forward(*xs) #unwrap\n",
        "        if not isinstance(ys, tuple):\n",
        "            ys = (ys,)\n",
        "        outputs = [Variable(as_array(y)) for y in ys]\n",
        "\n",
        "        if Config.enable_backprop:\n",
        "            self.generation = max([x.generation for x in self.inputs])\n",
        "            for output in outputs:\n",
        "                output.set_creator(self)\n",
        "            self.outputs = [weakref.ref(o) for o in outputs]\n",
        "\n",
        "        return outputs if len(outputs) > 1 else outputs[0]\n",
        "\n",
        "    def forward(self, x):\n",
        "        raise NotImplementedError()\n",
        "\n",
        "    def backward(self, gy):\n",
        "        raise NotImplementedError()\n"
      ]
    },
    {
      "cell_type": "code",
      "execution_count": 79,
      "metadata": {
        "id": "MTx2gOsEDQWA"
      },
      "outputs": [],
      "source": [
        "\n",
        "class Square(Function):\n",
        "    def forward(self, x):\n",
        "        return x ** 2\n",
        "\n",
        "    def backward(self, gy):\n",
        "        x = self.inputs[0].data\n",
        "        gx = 2 * x * gy\n",
        "        return gx\n",
        "\n",
        "\n",
        "class Exp(Function):\n",
        "    def forward(self, x):\n",
        "        return np.exp(x)\n",
        "\n",
        "    def backward(self, gy):\n",
        "        x = self.inputs[0].data\n",
        "        gx = np.exp(x) * gy\n",
        "        return gx\n"
      ]
    },
    {
      "cell_type": "code",
      "execution_count": 80,
      "metadata": {
        "id": "Pf-HzEt2yBtA"
      },
      "outputs": [],
      "source": [
        "class Add(Function):\n",
        "    def forward(self, a, b):\n",
        "        y = a + b\n",
        "        return (y,)\n",
        "    \n",
        "    def backward(self, gy):\n",
        "        return gy, gy"
      ]
    },
    {
      "cell_type": "code",
      "execution_count": 81,
      "metadata": {},
      "outputs": [],
      "source": [
        "class Identical(Function):\n",
        "    def forward(self, x):\n",
        "        return x\n",
        "    \n",
        "    def backward(self, gy):\n",
        "        return gy # ??? 1 or gy"
      ]
    },
    {
      "cell_type": "code",
      "execution_count": 82,
      "metadata": {
        "id": "NBvCqaLSD0Tm"
      },
      "outputs": [],
      "source": [
        "def square(x):\n",
        "  return Square()(x)\n",
        "\n",
        "def exp(x):\n",
        "  return Exp()(x)\n",
        "\n",
        "def add(x0, x1):\n",
        "  return Add()(x0, x1)\n",
        "\n",
        "def identical(x):\n",
        "  return Identical()(x)"
      ]
    },
    {
      "cell_type": "code",
      "execution_count": 83,
      "metadata": {},
      "outputs": [],
      "source": [
        "SIZE = (100, 100, 100)"
      ]
    },
    {
      "cell_type": "markdown",
      "metadata": {},
      "source": [
        "# Test Code\n",
        "Config.enable_backprop = True\n",
        "x = Variable(np.ones(SIZE))\n",
        "y = square(square(square(x))) \n",
        "y.backward()"
      ]
    },
    {
      "cell_type": "markdown",
      "metadata": {},
      "source": [
        "Config.enable_backprop =False\n",
        "x = Variable(np.ones(SIZE))\n",
        "y =square(square(square(x))) \n",
        "y.backward()"
      ]
    },
    {
      "cell_type": "code",
      "execution_count": 84,
      "metadata": {},
      "outputs": [
        {
          "name": "stdout",
          "output_type": "stream",
          "text": [
            "start\n",
            "process...\n",
            "Done\n"
          ]
        }
      ],
      "source": [
        "# context\n",
        "\n",
        "import contextlib\n",
        "\n",
        "@contextlib.contextmanager\n",
        "def config_test():\n",
        "    print('start')\n",
        "    try:\n",
        "        yield\n",
        "    finally:\n",
        "        print('Done')\n",
        "\n",
        "\n",
        "with config_test():\n",
        "    print('process...')"
      ]
    },
    {
      "cell_type": "code",
      "execution_count": 85,
      "metadata": {},
      "outputs": [],
      "source": [
        "@contextlib.contextmanager\n",
        "def using_config(name, value):\n",
        "    old_value = getattr(Config, name)\n",
        "    setattr(Config, name, value)\n",
        "    try:\n",
        "        yield\n",
        "    finally:\n",
        "        setattr(Config, name, old_value)"
      ]
    },
    {
      "cell_type": "code",
      "execution_count": 86,
      "metadata": {},
      "outputs": [],
      "source": [
        "with using_config('enable_backprop', False):\n",
        "    x = Variable(np.ones(SIZE))\n",
        "    y =square(x)"
      ]
    },
    {
      "cell_type": "code",
      "execution_count": 87,
      "metadata": {},
      "outputs": [],
      "source": [
        "def no_grad():\n",
        "    return using_config( 'enable_backprop' , False)\n",
        "\n",
        "with no_grad():\n",
        "    x =Variable(np.array(2.0))\n",
        "    y = square(x)"
      ]
    }
  ],
  "metadata": {
    "colab": {
      "include_colab_link": true,
      "provenance": []
    },
    "kernelspec": {
      "display_name": "build_dl_framework",
      "language": "python",
      "name": "python3"
    },
    "language_info": {
      "codemirror_mode": {
        "name": "ipython",
        "version": 3
      },
      "file_extension": ".py",
      "mimetype": "text/x-python",
      "name": "python",
      "nbconvert_exporter": "python",
      "pygments_lexer": "ipython3",
      "version": "3.9.19"
    }
  },
  "nbformat": 4,
  "nbformat_minor": 0
}
