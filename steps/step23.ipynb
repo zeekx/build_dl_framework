{
 "cells": [
  {
   "cell_type": "code",
   "execution_count": null,
   "metadata": {},
   "outputs": [],
   "source": [
    "import os\n",
    "import sys\n",
    "\n",
    "# Check if __file__ is defined\n",
    "if '__file__' in globals():\n",
    "    # Running from a script\n",
    "    script_dir = os.path.dirname(__file__)\n",
    "else:\n",
    "    # Running in an environment like Jupyter\n",
    "    script_dir = os.getcwd()\n",
    "\n",
    "# Add parent directory to sys.path\n",
    "sys.path.append(os.path.join(script_dir, '..'))\n",
    "\n",
    "\n",
    "import numpy as np\n",
    "from dezero import Variable\n",
    "\n",
    "x = Variable(np.array(1.0))\n",
    "y =(x + 3) ** 2\n",
    "y. backward ()\n",
    "print(y)\n",
    "print(x.grad)\n"
   ]
  }
 ],
 "metadata": {
  "kernelspec": {
   "display_name": "build_dl_framework",
   "language": "python",
   "name": "python3"
  },
  "language_info": {
   "codemirror_mode": {
    "name": "ipython",
    "version": 3
   },
   "file_extension": ".py",
   "mimetype": "text/x-python",
   "name": "python",
   "nbconvert_exporter": "python",
   "pygments_lexer": "ipython3",
   "version": "3.9.19"
  }
 },
 "nbformat": 4,
 "nbformat_minor": 2
}
