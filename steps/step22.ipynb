{
  "cells": [
    {
      "cell_type": "markdown",
      "metadata": {
        "id": "nQA4XhIp1aMj"
      },
      "source": [
        "# Operator Overloading\n",
        "\n",
        "- sub\n",
        "- truediv\n",
        "- neg\n",
        "- pow\n",
        "\n"
      ]
    },
    {
      "cell_type": "code",
      "execution_count": null,
      "metadata": {
        "id": "t_lOTQ6yDQV9"
      },
      "outputs": [],
      "source": [
        "import numpy as np\n",
        "import heapq\n",
        "import weakref"
      ]
    },
    {
      "cell_type": "code",
      "execution_count": null,
      "metadata": {
        "id": "XO4z7ZmkDQV-"
      },
      "outputs": [],
      "source": [
        "class Variable:\n",
        "    __array_priority = 200 # useless for Python3.9\n",
        "\n",
        "    def __init__(self, data, name=None):\n",
        "        if data is not None:\n",
        "          if not isinstance(data, np.ndarray):\n",
        "            raise TypeError('{} is not supported'.format(type(data)))\n",
        "\n",
        "        self.data = data\n",
        "        self.name = name\n",
        "        self.grad = None\n",
        "        self.creator = None\n",
        "        self.generation = 0\n",
        "\n",
        "    @property\n",
        "    def shape(self):\n",
        "        return self.data.shape\n",
        "    \n",
        "    @property\n",
        "    def ndim(self):\n",
        "        return self.data.ndim\n",
        "    \n",
        "    @property\n",
        "    def size(self):\n",
        "        return self.data.size\n",
        "    \n",
        "    @property\n",
        "    def dtype(self):\n",
        "        return self.data.dtype\n",
        "    \n",
        "    def __neg__(self):\n",
        "        return neg(self)\n",
        "    \n",
        "    def __sub__(self, other):\n",
        "        return sub(self, other)\n",
        "    \n",
        "    # non-var - var(self)\n",
        "    def __rsub__(self, other):\n",
        "        return rsub(self, other)\n",
        "        # return sub(as_array(other), self)\n",
        "        # return add(other, neg(self))\n",
        "\n",
        "    def __mul__(self, other):\n",
        "        return mul(self, other)\n",
        "    \n",
        "    def __truediv__(self, other):\n",
        "        return div(self, other)\n",
        "    \n",
        "    def __rtruediv__(self, other):\n",
        "        return rdiv(self, other)\n",
        "    \n",
        "    def __pow__(self, other):\n",
        "        return pow(self, other)\n",
        "\n",
        "    def __add__(self, other):\n",
        "        return add(self, other)\n",
        "    \n",
        "    def __rmul__(self, other):\n",
        "        return mul(self, other)\n",
        "    \n",
        "    def __radd__(self, other):\n",
        "        return add(self, other)    \n",
        "    \n",
        "    def __repr__(self):\n",
        "        if self.data is None:\n",
        "            return 'varible(None)'\n",
        "        else:\n",
        "            c = str(self.data).replace('\\n', '\\n'+ ' ' * 9)\n",
        "            return f'variable({c})'\n",
        "    \n",
        "    def __len__(self):\n",
        "        return len(self.data)\n",
        "    \n",
        "    def set_creator(self, func):\n",
        "        self.creator = func\n",
        "        self.generation = func.generation + 1\n",
        "\n",
        "    def reset_grad(self):\n",
        "        self.grad = None\n",
        "\n",
        "# a -> f(a) -> b\n",
        "# Variable: b.creator -> f\n",
        "# b.creator -> f -> f.input -> a\n",
        "\n",
        "    def backward(self, retain_grad = False):\n",
        "        def pop_func(alist):\n",
        "            return heapq.heappop(alist)\n",
        "        \n",
        "        def append_func(alist, f):\n",
        "            heapq.heappush(alist, f)\n",
        "\n",
        "        \n",
        "        if self.grad is None:\n",
        "            self.grad = np.ones_like(self.data)\n",
        "        \n",
        "        fs = [self.creator]            \n",
        "        while fs:\n",
        "            f = pop_func(fs)\n",
        "            ygs = [o().grad for o in f.outputs]\n",
        "            xgs = f.backward(*ygs)\n",
        "            if not isinstance(xgs, tuple):\n",
        "                xgs = (xgs,)\n",
        "    \n",
        "            for x, g in zip(f.inputs, xgs):\n",
        "                if x.grad is None:\n",
        "                    x.grad = g\n",
        "                    if x.creator is not None: # append the function once when the var: x first appeared\n",
        "                        append_func(fs, x.creator)\n",
        "                else: # Var:x, is repeated\n",
        "                    x.grad = x.grad + g\n",
        "            \n",
        "            # for the very begin of variables, their backward codes Do NOT reach here, because they don't have any creator\n",
        "            if not retain_grad:\n",
        "                for y in f.outputs:\n",
        "                    y().grad = None # y is a weakref of the output\n"
      ]
    },
    {
      "cell_type": "code",
      "execution_count": null,
      "metadata": {},
      "outputs": [],
      "source": [
        "# Variable.__rmul__ = mul\n",
        "# Variable.__radd__ = add"
      ]
    },
    {
      "cell_type": "code",
      "execution_count": null,
      "metadata": {},
      "outputs": [],
      "source": [
        "def as_variable(x):\n",
        "    if isinstance(x, Variable):\n",
        "        return x\n",
        "    else:\n",
        "        return Variable(x)"
      ]
    },
    {
      "cell_type": "code",
      "execution_count": null,
      "metadata": {},
      "outputs": [],
      "source": [
        "x = Variable(np.array([[1,2,3], [4, 5, 6]]))\n",
        "print(type(x))\n",
        "print(x.shape)\n",
        "print(x.ndim)\n",
        "print(x.size)\n",
        "print(x.dtype)\n",
        "print(len(x))\n",
        "x\n",
        "\n"
      ]
    },
    {
      "cell_type": "code",
      "execution_count": null,
      "metadata": {
        "id": "iAIaqHDfIylW"
      },
      "outputs": [],
      "source": [
        "def as_array(x):\n",
        "    if np.isscalar(x):\n",
        "        return np.array(x)\n",
        "    return x"
      ]
    },
    {
      "cell_type": "code",
      "execution_count": null,
      "metadata": {},
      "outputs": [],
      "source": [
        "class Config:\n",
        "    enable_backprop = True # backward propagate"
      ]
    },
    {
      "cell_type": "code",
      "execution_count": null,
      "metadata": {
        "id": "vFFMJsvnDQV_"
      },
      "outputs": [],
      "source": [
        "class Function:\n",
        "    def __init__(self) -> None:\n",
        "        self.generation = 0\n",
        "    \n",
        "    def __lt__(self, other):\n",
        "            return -self.generation < -other.generation\n",
        "    \n",
        "    def __call__(self, *inputs): # input:[x0, x1, ...]@Variable -> [y0, y1, ...]@Variable\n",
        "        self.inputs = [as_variable(x) for x in inputs]\n",
        "        xs = [x.data for x in inputs]\n",
        "        ys = self.forward(*xs) #unwrap\n",
        "        if not isinstance(ys, tuple):\n",
        "            ys = (ys,)\n",
        "        outputs = [Variable(as_array(y)) for y in ys]\n",
        "\n",
        "        if Config.enable_backprop:\n",
        "            self.generation = max([x.generation for x in self.inputs])\n",
        "            for output in outputs:\n",
        "                output.set_creator(self)\n",
        "            self.outputs = [weakref.ref(o) for o in outputs]\n",
        "\n",
        "        return outputs if len(outputs) > 1 else outputs[0]\n",
        "\n",
        "    def forward(self, x):\n",
        "        raise NotImplementedError()\n",
        "\n",
        "    def backward(self, gy):\n",
        "        raise NotImplementedError()\n"
      ]
    },
    {
      "cell_type": "code",
      "execution_count": null,
      "metadata": {
        "id": "MTx2gOsEDQWA"
      },
      "outputs": [],
      "source": [
        "\n",
        "class Square(Function):\n",
        "    def forward(self, x):\n",
        "        return x ** 2\n",
        "\n",
        "    def backward(self, gy):\n",
        "        x = self.inputs[0].data\n",
        "        gx = 2 * x * gy\n",
        "        return gx\n",
        "\n",
        "\n",
        "class Exp(Function):\n",
        "    def forward(self, x):\n",
        "        return np.exp(x)\n",
        "\n",
        "    def backward(self, gy):\n",
        "        x = self.inputs[0].data\n",
        "        gx = np.exp(x) * gy\n",
        "        return gx\n",
        "    \n",
        "\n",
        "class Pow(Function):\n",
        "    def __init__(self, exp):\n",
        "        self.exp = exp\n",
        "\n",
        "    def forward(self, x):\n",
        "        return x ** self.exp\n",
        "        \n",
        "    # x^e\n",
        "    def backward(self, gy):\n",
        "        x, exp = self.inputs[0].data, self.exp\n",
        "        return gy * (exp * (x ** (exp-1)))\n"
      ]
    },
    {
      "cell_type": "code",
      "execution_count": null,
      "metadata": {},
      "outputs": [],
      "source": [
        "class Neg(Function):\n",
        "    def forward(self, x):\n",
        "        return -x\n",
        "    \n",
        "    def backward(self, gy):\n",
        "        return -gy"
      ]
    },
    {
      "cell_type": "code",
      "execution_count": null,
      "metadata": {},
      "outputs": [],
      "source": [
        "class Mul(Function):\n",
        "    def forward(self, a, b):\n",
        "        return a * b\n",
        "    \n",
        "    def backward(self, gy):\n",
        "        a, b = self.inputs[0].data, self.inputs[-1].data\n",
        "        return gy * b, gy * a\n",
        "    \n",
        "class Div(Function):\n",
        "    def forward(self, a, b):\n",
        "        return a / b\n",
        "    \n",
        "    # a / b <==> a * (1/b) <==> a * (b^-1)\n",
        "    # y = a * u\n",
        "    # u = 1 / b = b^ -1\n",
        "    # 'y/'b = 'y/'u * ('u/'b) = a * (-1 * b ** -2)\n",
        "    def backward(self, gy):\n",
        "        a, b = self.inputs[0].data, self.inputs[-1].data\n",
        "        return gy * 1 / b, gy * a * (-1) * (b ** -2)\n"
      ]
    },
    {
      "cell_type": "code",
      "execution_count": null,
      "metadata": {
        "id": "Pf-HzEt2yBtA"
      },
      "outputs": [],
      "source": [
        "class Add(Function):\n",
        "    def forward(self, a, b):\n",
        "        y = a + b\n",
        "        return (y,)\n",
        "    \n",
        "    def backward(self, gy):\n",
        "        return gy, gy\n",
        "    \n",
        "\n",
        "class Sub(Function):\n",
        "    def forward(self, a, b):\n",
        "        return a - b\n",
        "    \n",
        "    # a - b <==> a + (-b)\n",
        "    def backward(self, gy):\n",
        "        return gy, -gy"
      ]
    },
    {
      "cell_type": "code",
      "execution_count": null,
      "metadata": {},
      "outputs": [],
      "source": [
        "class Identical(Function):\n",
        "    def forward(self, x):\n",
        "        return x\n",
        "    \n",
        "    def backward(self, gy):\n",
        "        return gy # ??? 1 or gy"
      ]
    },
    {
      "cell_type": "code",
      "execution_count": null,
      "metadata": {
        "id": "NBvCqaLSD0Tm"
      },
      "outputs": [],
      "source": [
        "def square(x):\n",
        "  return Square()(x)\n",
        "\n",
        "def exp(x):\n",
        "  return Exp()(x)\n",
        "\n",
        "def pow(x, exp):\n",
        "  return Pow(exp)(x)\n",
        "\n",
        "def add(x0, x1):\n",
        "  return Add()(x0, as_array(x1))\n",
        "\n",
        "def identical(x):\n",
        "  return Identical()(x)\n",
        "\n",
        "def mul(x0, x1):\n",
        "  return Mul()(x0, as_array(x1))\n",
        "\n",
        "def neg(x):\n",
        "  return Neg()(x)\n",
        "\n",
        "def sub(x0, x1):\n",
        "  return Sub()(x0, as_array(x1))\n",
        "\n",
        "# x1 - x0\n",
        "def rsub(x0, x1):\n",
        "  x = as_array(x1)\n",
        "  return Sub()(x, x0)\n",
        "\n",
        "def div(x0, x1):\n",
        "  return Div()(x0, as_array(x1))\n",
        "\n",
        "# x1 / x0\n",
        "def rdiv(x0, x1):\n",
        "  x = as_array(x1)\n",
        "  return Div()(x, x0)"
      ]
    },
    {
      "cell_type": "code",
      "execution_count": null,
      "metadata": {},
      "outputs": [],
      "source": [
        "import contextlib\n",
        "\n",
        "@contextlib.contextmanager\n",
        "def using_config(name, value):\n",
        "    old_value = getattr(Config, name)\n",
        "    setattr(Config, name, value)\n",
        "    try:\n",
        "        yield\n",
        "    finally:\n",
        "        setattr(Config, name, old_value)"
      ]
    },
    {
      "cell_type": "code",
      "execution_count": null,
      "metadata": {},
      "outputs": [],
      "source": [
        "def no_grad():\n",
        "    return using_config( 'enable_backprop' , False)\n",
        "\n",
        "with no_grad():\n",
        "    x =Variable(np.array(2.0))\n",
        "    y = square(x)"
      ]
    },
    {
      "cell_type": "code",
      "execution_count": null,
      "metadata": {},
      "outputs": [],
      "source": [
        "# neg\n",
        "x = Variable(np.array(1))\n",
        "y = -x\n",
        "print(y)\n"
      ]
    },
    {
      "cell_type": "code",
      "execution_count": null,
      "metadata": {},
      "outputs": [],
      "source": [
        "a = Variable(np.array(2))\n",
        "b = Variable(np.array(1))\n",
        "y = a - b\n",
        "print(y)\n"
      ]
    },
    {
      "cell_type": "code",
      "execution_count": null,
      "metadata": {},
      "outputs": [],
      "source": [
        "a = Variable(np.array(2))\n",
        "b = Variable(np.array(1))\n",
        "y = b - a\n",
        "print(y)"
      ]
    },
    {
      "cell_type": "code",
      "execution_count": null,
      "metadata": {},
      "outputs": [],
      "source": [
        "a = Variable(np.array(2))\n",
        "b = Variable(np.array(1))\n",
        "y = b / a\n",
        "y"
      ]
    },
    {
      "cell_type": "code",
      "execution_count": null,
      "metadata": {},
      "outputs": [],
      "source": [
        "a = Variable(np.array(2))\n",
        "b = Variable(np.array(1))\n",
        "y = a / b\n",
        "y"
      ]
    },
    {
      "cell_type": "code",
      "execution_count": null,
      "metadata": {},
      "outputs": [],
      "source": [
        "a = Variable(np.array(2))\n",
        "b = 1\n",
        "c = np.array([3])\n",
        "y0 = a / b\n",
        "y1 = b / a\n",
        "y2 = a / c\n",
        "y3 = c / a\n",
        "print(y0, y1, y2, y3)"
      ]
    },
    {
      "cell_type": "code",
      "execution_count": null,
      "metadata": {},
      "outputs": [],
      "source": [
        "x = Variable(np.array(2))\n",
        "y = x ** 3\n",
        "print(y)\n",
        "\n",
        "y.backward()\n",
        "x.grad\n"
      ]
    }
  ],
  "metadata": {
    "colab": {
      "include_colab_link": true,
      "provenance": []
    },
    "kernelspec": {
      "display_name": "build_dl_framework",
      "language": "python",
      "name": "python3"
    },
    "language_info": {
      "codemirror_mode": {
        "name": "ipython",
        "version": 3
      },
      "file_extension": ".py",
      "mimetype": "text/x-python",
      "name": "python",
      "nbconvert_exporter": "python",
      "pygments_lexer": "ipython3",
      "version": "3.9.19"
    }
  },
  "nbformat": 4,
  "nbformat_minor": 0
}
