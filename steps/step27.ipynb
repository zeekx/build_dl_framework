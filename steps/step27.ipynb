{
 "cells": [
  {
   "cell_type": "code",
   "execution_count": null,
   "metadata": {},
   "outputs": [],
   "source": [
    "import os\n",
    "import sys\n",
    "\n",
    "# Check if __file__ is defined\n",
    "if '__file__' in globals():\n",
    "    # Running from a script\n",
    "    script_dir = os.path.dirname(__file__)\n",
    "else:\n",
    "    # Running in an environment like Jupyter\n",
    "    script_dir = os.getcwd()\n",
    "\n",
    "# Add parent directory to sys.path\n",
    "sys.path.append(os.path.join(script_dir, '..'))\n",
    "\n",
    "\n",
    "import numpy as np\n",
    "from dezero import Variable, Function\n"
   ]
  },
  {
   "cell_type": "code",
   "execution_count": null,
   "metadata": {},
   "outputs": [],
   "source": [
    "class Sin(Function):\n",
    "    def forward(self, x):\n",
    "        return np.sin(x)\n",
    "    \n",
    "    def backward(self, gy):\n",
    "        x = self.inputs[0].data\n",
    "        return np.cos(x)\n",
    "    \n",
    "\n",
    "def sin(x):\n",
    "    return Sin()(x)"
   ]
  },
  {
   "cell_type": "code",
   "execution_count": null,
   "metadata": {},
   "outputs": [],
   "source": [
    "x = Variable(np.array(np.pi/4))\n",
    "y = sin(x)\n",
    "y.backward()\n",
    "print(y.data)\n",
    "print(x.grad)"
   ]
  },
  {
   "cell_type": "code",
   "execution_count": null,
   "metadata": {},
   "outputs": [],
   "source": [
    "import math\n",
    "def taylor_sin(x, threshold=0.00000001):\n",
    "    def term(i):\n",
    "        c = pow(-1, i%2)\n",
    "        b = i + i + 1\n",
    "        value = c * (x ** b) / (math.factorial(b))\n",
    "        return value\n",
    "    \n",
    "    i = 0\n",
    "    y = 0\n",
    "    t = term(0)\n",
    "    while abs(t.data) >= threshold:\n",
    "        y += t\n",
    "        i += 1\n",
    "        t = term(i)\n",
    "    return y"
   ]
  },
  {
   "cell_type": "code",
   "execution_count": null,
   "metadata": {},
   "outputs": [],
   "source": [
    "x = Variable(np.array([math.pi/4]))\n",
    "yt = taylor_sin(x)\n",
    "print(yt)\n",
    "y = np.sin(x.data)\n",
    "print(y)\n",
    "\n",
    "print(yt-y)"
   ]
  },
  {
   "cell_type": "code",
   "execution_count": null,
   "metadata": {},
   "outputs": [],
   "source": [
    "x = Variable(np.array([math.pi/4]))\n",
    "y = taylor_sin(x)\n",
    "y.backward()\n",
    "\n",
    "\n",
    "print(x.grad, y.data)\n",
    "print(np.cos(x.data))"
   ]
  }
 ],
 "metadata": {
  "kernelspec": {
   "display_name": "build_dl_framework",
   "language": "python",
   "name": "python3"
  },
  "language_info": {
   "codemirror_mode": {
    "name": "ipython",
    "version": 3
   },
   "file_extension": ".py",
   "mimetype": "text/x-python",
   "name": "python",
   "nbconvert_exporter": "python",
   "pygments_lexer": "ipython3",
   "version": "3.9.19"
  }
 },
 "nbformat": 4,
 "nbformat_minor": 2
}
