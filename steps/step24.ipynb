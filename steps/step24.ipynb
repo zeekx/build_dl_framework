{
 "cells": [
  {
   "cell_type": "code",
   "execution_count": null,
   "metadata": {},
   "outputs": [],
   "source": [
    "import os\n",
    "import sys\n",
    "\n",
    "# Check if __file__ is defined\n",
    "if '__file__' in globals():\n",
    "    # Running from a script\n",
    "    script_dir = os.path.dirname(__file__)\n",
    "else:\n",
    "    # Running in an environment like Jupyter\n",
    "    script_dir = os.getcwd()\n",
    "\n",
    "# Add parent directory to sys.path\n",
    "sys.path.append(os.path.join(script_dir, '..'))\n",
    "\n",
    "\n",
    "import numpy as np\n",
    "from dezero import Variable\n"
   ]
  },
  {
   "cell_type": "code",
   "execution_count": null,
   "metadata": {},
   "outputs": [],
   "source": [
    "#Sphere\n",
    "# z = x^2 + y^2\n",
    "def sphere(x, y):\n",
    "    z = x ** 2 + y ** 2\n",
    "    return z\n",
    "\n",
    "x = Variable(np.array(1.0))\n",
    "y = Variable(np.array(1.0))\n",
    "\n",
    "\n",
    "z = sphere(x, y)\n",
    "z.backward()\n",
    "print(z)\n",
    "print(x.grad, y.grad)"
   ]
  },
  {
   "cell_type": "code",
   "execution_count": null,
   "metadata": {},
   "outputs": [],
   "source": [
    "#matyas\n",
    "# z = 0.26 * (x^2 + y^2) - 0.48xy\n",
    "\n",
    "def matyas(x, y):\n",
    "    return 0.26 * sphere(x, y) - 0.48 * x * y\n",
    "\n",
    "x = Variable(np.array(1.0))\n",
    "y = Variable(np.array(1.0))\n",
    "\n",
    "\n",
    "z = matyas(x, y)\n",
    "z.backward()\n",
    "print(z)\n",
    "print(x.grad, y.grad)\n",
    "\n"
   ]
  },
  {
   "cell_type": "markdown",
   "metadata": {},
   "source": [
    "![alt text](goldstein_price.jpg)"
   ]
  },
  {
   "cell_type": "code",
   "execution_count": null,
   "metadata": {},
   "outputs": [],
   "source": [
    "def goldstein(x, y):\n",
    "    z = (1 + (x + y + 1)**2 * (19 - 14*x + 3 * x**2 - 14*y + 6*x*y + 3*y**2)) * \\\n",
    "(30 + (2*x - 3*y)**2 * (18 - 32*x + 12*x**2 + 48*y - 36*x*y + 27*y**2)) \n",
    "    return z\n",
    "\n",
    "\n",
    "x = Variable(np.array(1.0))\n",
    "y = Variable(np.array(1.0))\n",
    "\n",
    "\n",
    "z = goldstein(x, y)\n",
    "z.backward()\n",
    "print(z)\n",
    "print(x.grad, y.grad)\n"
   ]
  },
  {
   "cell_type": "code",
   "execution_count": null,
   "metadata": {},
   "outputs": [],
   "source": []
  }
 ],
 "metadata": {
  "kernelspec": {
   "display_name": "build_dl_framework",
   "language": "python",
   "name": "python3"
  },
  "language_info": {
   "codemirror_mode": {
    "name": "ipython",
    "version": 3
   },
   "file_extension": ".py",
   "mimetype": "text/x-python",
   "name": "python",
   "nbconvert_exporter": "python",
   "pygments_lexer": "ipython3",
   "version": "3.9.19"
  }
 },
 "nbformat": 4,
 "nbformat_minor": 2
}
