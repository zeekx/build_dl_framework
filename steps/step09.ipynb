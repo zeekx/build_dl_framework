{
  "cells": [
    {
      "cell_type": "markdown",
      "metadata": {
        "id": "view-in-github",
        "colab_type": "text"
      },
      "source": [
        "<a href=\"https://colab.research.google.com/github/zeekx/build_dl_framework/blob/master/steps/step09.ipynb\" target=\"_parent\"><img src=\"https://colab.research.google.com/assets/colab-badge.svg\" alt=\"Open In Colab\"/></a>"
      ]
    },
    {
      "cell_type": "code",
      "execution_count": 35,
      "metadata": {
        "id": "t_lOTQ6yDQV9"
      },
      "outputs": [],
      "source": [
        "import numpy as np"
      ]
    },
    {
      "cell_type": "code",
      "execution_count": 36,
      "metadata": {
        "id": "XO4z7ZmkDQV-"
      },
      "outputs": [],
      "source": [
        "class Variable:\n",
        "    def __init__(self, data):\n",
        "        if data is not None:\n",
        "          if not isinstance(data, np.ndarray):\n",
        "            raise TypeError('{} is not supported'.format(type(data)))\n",
        "\n",
        "        self.data = data\n",
        "        self.grad = None\n",
        "        self.creator = None\n",
        "\n",
        "\n",
        "    def set_creator(self, func):\n",
        "        self.creator = func\n",
        "\n",
        "\n",
        "# a -> f(a) -> b\n",
        "# Variable: b.creator -> f\n",
        "# b.creator -> f -> f.input -> a\n",
        "\n",
        "    def backward(self):\n",
        "        fs = [self.creator]\n",
        "        if self.grad is None:\n",
        "            self.grad = np.ones_like(self.data)\n",
        "        while fs:\n",
        "            f = fs.pop()\n",
        "            x, y = f.input, f.output\n",
        "            x.grad = f.backward(y.grad)\n",
        "\n",
        "            if x.creator is not None:\n",
        "                fs.append(x.creator)\n",
        "\n"
      ]
    },
    {
      "cell_type": "markdown",
      "source": [
        "Code sinppet ***isscalar***"
      ],
      "metadata": {
        "id": "Av0fUwLvKMih"
      }
    },
    {
      "cell_type": "code",
      "source": [
        "print(np.isscalar(np.array(2.0)))\n",
        "print(np.isscalar(2.0))\n",
        "print(np.isscalar(np.float64(2.0)))"
      ],
      "metadata": {
        "id": "sGKn8DTPJ4ao",
        "outputId": "eab04720-1fb3-435c-de4f-d02c87d69bed",
        "colab": {
          "base_uri": "https://localhost:8080/"
        }
      },
      "execution_count": 53,
      "outputs": [
        {
          "output_type": "stream",
          "name": "stdout",
          "text": [
            "False\n",
            "True\n",
            "True\n"
          ]
        }
      ]
    },
    {
      "cell_type": "code",
      "source": [
        "def as_array(x):\n",
        "    if np.isscalar(x):\n",
        "        return np.array(x)\n",
        "    return x"
      ],
      "metadata": {
        "id": "iAIaqHDfIylW"
      },
      "execution_count": 37,
      "outputs": []
    },
    {
      "cell_type": "code",
      "execution_count": 38,
      "metadata": {
        "id": "vFFMJsvnDQV_"
      },
      "outputs": [],
      "source": [
        "class Function:\n",
        "    def __call__(self, input):\n",
        "        self.input = input\n",
        "        x = input.data\n",
        "        y = self.forward(x)\n",
        "        output = Variable(as_array(y))\n",
        "        output.set_creator(self)\n",
        "        self.output = output\n",
        "        return output\n",
        "\n",
        "    def forward(self, x):\n",
        "        raise NotImplementedError()\n",
        "\n",
        "    def backward(self, gy):\n",
        "        raise NotImplementedError()\n",
        ""
      ]
    },
    {
      "cell_type": "code",
      "execution_count": 39,
      "metadata": {
        "id": "MTx2gOsEDQWA"
      },
      "outputs": [],
      "source": [
        "\n",
        "class Square(Function):\n",
        "    def forward(self, x):\n",
        "        return x ** 2\n",
        "\n",
        "    def backward(self, gy):\n",
        "        x = self.input.data\n",
        "        gx = 2 * x * gy\n",
        "        return gx\n",
        "\n",
        "\n",
        "class Exp(Function):\n",
        "    def forward(self, x):\n",
        "        return np.exp(x)\n",
        "\n",
        "    def backward(self, gy):\n",
        "        x = self.input.data\n",
        "        gx = np.exp(x) * gy\n",
        "        return gx\n"
      ]
    },
    {
      "cell_type": "code",
      "source": [
        "def square(x):\n",
        "  return Square()(x)\n",
        "\n",
        "def exp(x):\n",
        "  return Exp()(x)"
      ],
      "metadata": {
        "id": "NBvCqaLSD0Tm"
      },
      "execution_count": 40,
      "outputs": []
    },
    {
      "cell_type": "markdown",
      "source": [
        "\n",
        "The old code\n",
        "```\n",
        "x = Variable(np.array(0.5))\n",
        "A  = Square()    \n",
        "B = Exp()    \n",
        "C = Square()   \n",
        "\n",
        "a = A(x)\n",
        "b = B(a)\n",
        "y = C(b)\n",
        "```\n",
        "\n",
        "\n"
      ],
      "metadata": {
        "id": "bAdcJiiIEH9F"
      }
    },
    {
      "cell_type": "code",
      "execution_count": 41,
      "metadata": {
        "id": "wFy-IGlhDQWA",
        "outputId": "525ae883-8b42-4463-cdd3-7d3816f03c9b",
        "colab": {
          "base_uri": "https://localhost:8080/"
        }
      },
      "outputs": [
        {
          "output_type": "stream",
          "name": "stdout",
          "text": [
            "x.grad\t 3.297442541400256\n"
          ]
        }
      ],
      "source": [
        "x = Variable(np.array(0.5))\n",
        "a = square(x)\n",
        "b = exp(a)\n",
        "y = square(b)\n",
        "\n",
        "y.grad = np.array(1.0)\n",
        "y.backward()\n",
        "\n",
        "print(\"x.grad\\t\", x.grad)\n",
        "\n"
      ]
    },
    {
      "cell_type": "markdown",
      "source": [
        "Call in chain"
      ],
      "metadata": {
        "id": "7afXrVP5Gu4T"
      }
    },
    {
      "cell_type": "code",
      "source": [
        "x = Variable(np.array(0.5))\n",
        "y = square(exp(square(x)))\n",
        "\n",
        "y.grad = np.array(1.0)\n",
        "y.backward()\n",
        "\n",
        "print(\"x.grad\\t\", x.grad)"
      ],
      "metadata": {
        "id": "szjTZsA5FHQd",
        "outputId": "1a9fefa7-29ef-4271-f947-e90d88d8e86e",
        "colab": {
          "base_uri": "https://localhost:8080/"
        }
      },
      "execution_count": 42,
      "outputs": [
        {
          "output_type": "stream",
          "name": "stdout",
          "text": [
            "x.grad\t 3.297442541400256\n"
          ]
        }
      ]
    },
    {
      "cell_type": "code",
      "source": [],
      "metadata": {
        "id": "sQv3Pj_QGzwq"
      },
      "execution_count": 42,
      "outputs": []
    },
    {
      "cell_type": "markdown",
      "source": [
        "Give a default grad value(array(1.0) for the last variable"
      ],
      "metadata": {
        "id": "acE3VRhvG1P-"
      }
    },
    {
      "cell_type": "code",
      "source": [
        "x = Variable(np.array(0.5))\n",
        "y = square(exp(square(x)))\n",
        "\n",
        "\n",
        "y.backward()\n",
        "\n",
        "print(\"x.grad\\t\", x.grad)"
      ],
      "metadata": {
        "id": "rZlx9M62G-Cn",
        "outputId": "09c1519b-c625-4e2e-fd28-912b23f5c0d4",
        "colab": {
          "base_uri": "https://localhost:8080/"
        }
      },
      "execution_count": 43,
      "outputs": [
        {
          "output_type": "stream",
          "name": "stdout",
          "text": [
            "x.grad\t 3.297442541400256\n"
          ]
        }
      ]
    },
    {
      "cell_type": "markdown",
      "metadata": {
        "id": "M-sGjLS_DQWC"
      },
      "source": [
        "\n",
        "**In Step7:**\n",
        "\n",
        "x.grad 3.297442541400256\n",
        "\n",
        "Check:"
      ]
    },
    {
      "cell_type": "code",
      "execution_count": 44,
      "metadata": {
        "id": "wQ7wI4rvDQWD",
        "outputId": "d7fb17bb-f86f-4609-8312-c5fb1afa06ed",
        "colab": {
          "base_uri": "https://localhost:8080/"
        }
      },
      "outputs": [
        {
          "output_type": "stream",
          "name": "stdout",
          "text": [
            "Same gradient: True\n"
          ]
        }
      ],
      "source": [
        "print(\"Same gradient:\", x.grad == 3.297442541400256)"
      ]
    },
    {
      "cell_type": "code",
      "source": [],
      "metadata": {
        "id": "zo3t0SVoJMZH"
      },
      "execution_count": null,
      "outputs": []
    },
    {
      "cell_type": "markdown",
      "source": [
        "Code sinppet ***ndarray***"
      ],
      "metadata": {
        "id": "K2uBr23RJQ9T"
      }
    },
    {
      "cell_type": "code",
      "source": [
        "x = np.array(1.0)\n",
        "y = x ** 2\n",
        "print(type(x), x.ndim)\n",
        "print(type(y))"
      ],
      "metadata": {
        "id": "E-jZfgZHJSwX",
        "outputId": "b57d6206-2263-4baf-ec4f-282125d682f0",
        "colab": {
          "base_uri": "https://localhost:8080/"
        }
      },
      "execution_count": 45,
      "outputs": [
        {
          "output_type": "stream",
          "name": "stdout",
          "text": [
            "<class 'numpy.ndarray'> 0\n",
            "<class 'numpy.float64'>\n"
          ]
        }
      ]
    },
    {
      "cell_type": "code",
      "source": [
        "x = np.array([1.0, 2.0])\n",
        "y = x ** 2\n",
        "print(type(x), x.ndim)\n",
        "print(type(y), y.ndim)\n",
        "print(x.shape, y.shape)\n"
      ],
      "metadata": {
        "id": "AyROqFkTJYWN",
        "outputId": "a4c3f8a8-dc15-4941-e52a-edf2785ca204",
        "colab": {
          "base_uri": "https://localhost:8080/"
        }
      },
      "execution_count": 50,
      "outputs": [
        {
          "output_type": "stream",
          "name": "stdout",
          "text": [
            "<class 'numpy.ndarray'> 1\n",
            "<class 'numpy.ndarray'> 1\n",
            "(2,) (2,)\n"
          ]
        }
      ]
    }
  ],
  "metadata": {
    "kernelspec": {
      "display_name": "build_dl_framework",
      "language": "python",
      "name": "python3"
    },
    "language_info": {
      "codemirror_mode": {
        "name": "ipython",
        "version": 3
      },
      "file_extension": ".py",
      "mimetype": "text/x-python",
      "name": "python",
      "nbconvert_exporter": "python",
      "pygments_lexer": "ipython3",
      "version": "3.9.19"
    },
    "colab": {
      "provenance": [],
      "include_colab_link": true
    }
  },
  "nbformat": 4,
  "nbformat_minor": 0
}