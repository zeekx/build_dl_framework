{
  "cells": [
    {
      "cell_type": "markdown",
      "metadata": {
        "id": "view-in-github",
        "colab_type": "text"
      },
      "source": [
        "<a href=\"https://colab.research.google.com/github/zeekx/build_dl_framework/blob/dev/steps/step12.ipynb\" target=\"_parent\"><img src=\"https://colab.research.google.com/assets/colab-badge.svg\" alt=\"Open In Colab\"/></a>"
      ]
    },
    {
      "cell_type": "markdown",
      "source": [
        "# Scalar & Vector\n",
        "\n",
        "Input:\n",
        "\n",
        "scalar -> scalar\n",
        "\n",
        "vector -> vector\n",
        "\n",
        "Like Pytorch.tensor does.\n",
        "\n",
        "np.array(1) + np.array(2) = 3(tuple)\n",
        "\n",
        "np.array([1, 11]) + np.array([2, 22]) = [3, 33](np.array)\n",
        "\n",
        "\n",
        "Make the parameter can get var arguments, let put '*' before it.\n"
      ],
      "metadata": {
        "id": "nQA4XhIp1aMj"
      }
    },
    {
      "cell_type": "code",
      "execution_count": 2,
      "metadata": {
        "id": "t_lOTQ6yDQV9"
      },
      "outputs": [],
      "source": [
        "import numpy as np"
      ]
    },
    {
      "cell_type": "code",
      "execution_count": 3,
      "metadata": {
        "id": "XO4z7ZmkDQV-"
      },
      "outputs": [],
      "source": [
        "class Variable:\n",
        "    def __init__(self, data):\n",
        "        if data is not None:\n",
        "          if not isinstance(data, np.ndarray):\n",
        "            raise TypeError('{} is not supported'.format(type(data)))\n",
        "\n",
        "        self.data = data\n",
        "        self.grad = None\n",
        "        self.creator = None\n",
        "\n",
        "\n",
        "    def set_creator(self, func):\n",
        "        self.creator = func\n",
        "\n",
        "\n",
        "# a -> f(a) -> b\n",
        "# Variable: b.creator -> f\n",
        "# b.creator -> f -> f.input -> a\n",
        "\n",
        "    def backward(self):\n",
        "        fs = [self.creator]\n",
        "        if self.grad is None:\n",
        "            self.grad = np.ones_like(self.data)\n",
        "        while fs:\n",
        "            f = fs.pop()\n",
        "            x, y = f.input, f.output\n",
        "            x.grad = f.backward(y.grad)\n",
        "\n",
        "            if x.creator is not None:\n",
        "                fs.append(x.creator)\n",
        "\n"
      ]
    },
    {
      "cell_type": "code",
      "execution_count": 4,
      "metadata": {
        "id": "iAIaqHDfIylW"
      },
      "outputs": [],
      "source": [
        "def as_array(x):\n",
        "    if np.isscalar(x):\n",
        "        return np.array(x)\n",
        "    return x"
      ]
    },
    {
      "cell_type": "code",
      "execution_count": 5,
      "metadata": {
        "id": "vFFMJsvnDQV_"
      },
      "outputs": [],
      "source": [
        "class Function:\n",
        "    def __call__(self, *inputs): # input:[x0, x1, ...]@Variable -> [y0, y1, ...]@Variable\n",
        "        self.inputs = inputs\n",
        "        xs = [x.data for x in inputs]\n",
        "        ys = self.forward(*xs) #unwrap\n",
        "        if not isinstance(ys, tuple):\n",
        "            ys = (ys,)\n",
        "\n",
        "        outputs = [Variable(as_array(y)) for y in ys]\n",
        "        self.outputs = outputs\n",
        "        for output in outputs:\n",
        "            output.set_creator(self)\n",
        "\n",
        "        return self.outputs if len(self.outputs) > 1 else self.outputs[0]\n",
        "\n",
        "    def forward(self, x):\n",
        "        raise NotImplementedError()\n",
        "\n",
        "    def backward(self, gy):\n",
        "        raise NotImplementedError()\n"
      ]
    },
    {
      "cell_type": "code",
      "execution_count": 6,
      "metadata": {
        "id": "MTx2gOsEDQWA"
      },
      "outputs": [],
      "source": [
        "\n",
        "class Square(Function):\n",
        "    def forward(self, x):\n",
        "        return x ** 2\n",
        "\n",
        "    def backward(self, gy):\n",
        "        x = self.input.data\n",
        "        gx = 2 * x * gy\n",
        "        return gx\n",
        "\n",
        "\n",
        "class Exp(Function):\n",
        "    def forward(self, x):\n",
        "        return np.exp(x)\n",
        "\n",
        "    def backward(self, gy):\n",
        "        x = self.input.data\n",
        "        gx = np.exp(x) * gy\n",
        "        return gx\n"
      ]
    },
    {
      "cell_type": "code",
      "execution_count": 7,
      "metadata": {
        "id": "Pf-HzEt2yBtA"
      },
      "outputs": [],
      "source": [
        "class Add(Function):\n",
        "    def forward(self, a, b):\n",
        "        y = a + b\n",
        "        return (y,)"
      ]
    },
    {
      "cell_type": "code",
      "execution_count": 8,
      "metadata": {
        "id": "NBvCqaLSD0Tm"
      },
      "outputs": [],
      "source": [
        "def square(x):\n",
        "  return Square()(x)\n",
        "\n",
        "def exp(x):\n",
        "  return Exp()(x)\n",
        "\n",
        "def add(x0, x1):\n",
        "  return Add()(x0, x1)"
      ]
    },
    {
      "cell_type": "code",
      "execution_count": 9,
      "metadata": {
        "colab": {
          "base_uri": "https://localhost:8080/"
        },
        "id": "7cwwJ0p5yRLj",
        "outputId": "29476768-f971-4748-df60-5e7a014b2dca"
      },
      "outputs": [
        {
          "output_type": "execute_result",
          "data": {
            "text/plain": [
              "(<__main__.Variable at 0x7ec11102fb50>, array(3), __main__.Variable)"
            ]
          },
          "metadata": {},
          "execution_count": 9
        }
      ],
      "source": [
        "a, b = Variable(np.array(1)), Variable(np.array(2))\n",
        "add = Add()\n",
        "y = add(a, b)\n",
        "y, y.data, type(y)"
      ]
    },
    {
      "cell_type": "code",
      "source": [
        "a, b = Variable(np.array([1, 11])),  Variable(np.array([2, 22]))\n",
        "add = Add()\n",
        "y = add(a, b)\n",
        "y, y.data, type(y)"
      ],
      "metadata": {
        "id": "C2OqbkBb3rOA",
        "outputId": "49610d3d-c045-4c0a-fd0a-b69c3af6f356",
        "colab": {
          "base_uri": "https://localhost:8080/"
        }
      },
      "execution_count": 10,
      "outputs": [
        {
          "output_type": "execute_result",
          "data": {
            "text/plain": [
              "(<__main__.Variable at 0x7ec11102ebc0>, array([ 3, 33]), __main__.Variable)"
            ]
          },
          "metadata": {},
          "execution_count": 10
        }
      ]
    },
    {
      "cell_type": "markdown",
      "metadata": {
        "id": "acE3VRhvG1P-"
      },
      "source": [
        "Give a default grad value(array(1.0) for the last variable"
      ]
    },
    {
      "cell_type": "code",
      "execution_count": null,
      "metadata": {
        "id": "rZlx9M62G-Cn"
      },
      "outputs": [],
      "source": [
        "a = Variable(np.array(0.6))\n",
        "b = Variable(np.array(0.4))\n",
        "c = add(a, b)\n",
        "c.data, type(c)"
      ]
    }
  ],
  "metadata": {
    "colab": {
      "provenance": [],
      "include_colab_link": true
    },
    "kernelspec": {
      "display_name": "build_dl_framework",
      "language": "python",
      "name": "python3"
    },
    "language_info": {
      "codemirror_mode": {
        "name": "ipython",
        "version": 3
      },
      "file_extension": ".py",
      "mimetype": "text/x-python",
      "name": "python",
      "nbconvert_exporter": "python",
      "pygments_lexer": "ipython3",
      "version": "3.9.19"
    }
  },
  "nbformat": 4,
  "nbformat_minor": 0
}