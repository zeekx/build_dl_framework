{
  "cells": [
    {
      "cell_type": "markdown",
      "metadata": {
        "colab_type": "text",
        "id": "view-in-github"
      },
      "source": [
        "<a href=\"https://colab.research.google.com/github/zeekx/build_dl_framework/blob/dev/steps/step14.ipynb\" target=\"_parent\"><img src=\"https://colab.research.google.com/assets/colab-badge.svg\" alt=\"Open In Colab\"/></a>"
      ]
    },
    {
      "cell_type": "markdown",
      "metadata": {
        "id": "nQA4XhIp1aMj"
      },
      "source": [
        "# Backward: vector, x and itself\n",
        "\n",
        "x = Variable(np.array(1.0))\n",
        "y = add(x, x)\n",
        "y.backward()\n",
        "print(\"y=x+x=2x, f'(1)=2, but x.grad=\", x.grad)\n",
        "\n"
      ]
    },
    {
      "cell_type": "code",
      "execution_count": 11,
      "metadata": {
        "id": "t_lOTQ6yDQV9"
      },
      "outputs": [],
      "source": [
        "import numpy as np"
      ]
    },
    {
      "cell_type": "code",
      "execution_count": 12,
      "metadata": {
        "id": "XO4z7ZmkDQV-"
      },
      "outputs": [],
      "source": [
        "class Variable:\n",
        "    def __init__(self, data):\n",
        "        if data is not None:\n",
        "          if not isinstance(data, np.ndarray):\n",
        "            raise TypeError('{} is not supported'.format(type(data)))\n",
        "\n",
        "        self.data = data\n",
        "        self.grad = None\n",
        "        self.creator = None\n",
        "\n",
        "\n",
        "    def set_creator(self, func):\n",
        "        self.creator = func\n",
        "\n",
        "\n",
        "# a -> f(a) -> b\n",
        "# Variable: b.creator -> f\n",
        "# b.creator -> f -> f.input -> a\n",
        "\n",
        "    def backward(self):\n",
        "        fs = [self.creator]\n",
        "        if self.grad is None:\n",
        "            self.grad = np.ones_like(self.data)\n",
        "        while fs:\n",
        "            f = fs.pop()\n",
        "            ygs = [o.grad for o in f.outputs]\n",
        "            xgs = f.backward(*ygs)\n",
        "            if not isinstance(xgs, tuple):\n",
        "                xgs = (xgs,)\n",
        "    \n",
        "            for x, g in zip(f.inputs, xgs):\n",
        "                if x.grad is None:\n",
        "                    x.grad = g\n",
        "                else:\n",
        "                    x.grad = x.grad + g\n",
        "                if x.creator is not None:\n",
        "                    fs.append(x.creator)\n"
      ]
    },
    {
      "cell_type": "code",
      "execution_count": 13,
      "metadata": {
        "id": "iAIaqHDfIylW"
      },
      "outputs": [],
      "source": [
        "def as_array(x):\n",
        "    if np.isscalar(x):\n",
        "        return np.array(x)\n",
        "    return x"
      ]
    },
    {
      "cell_type": "code",
      "execution_count": 14,
      "metadata": {
        "id": "vFFMJsvnDQV_"
      },
      "outputs": [],
      "source": [
        "class Function:\n",
        "    def __call__(self, *inputs): # input:[x0, x1, ...]@Variable -> [y0, y1, ...]@Variable\n",
        "        self.inputs = inputs\n",
        "        xs = [x.data for x in inputs]\n",
        "        ys = self.forward(*xs) #unwrap\n",
        "        if not isinstance(ys, tuple):\n",
        "            ys = (ys,)\n",
        "\n",
        "        self.outputs = [Variable(as_array(y)) for y in ys]\n",
        "        for output in self.outputs:\n",
        "            output.set_creator(self)\n",
        "\n",
        "        return self.outputs if len(self.outputs) > 1 else self.outputs[0]\n",
        "\n",
        "    def forward(self, x):\n",
        "        raise NotImplementedError()\n",
        "\n",
        "    def backward(self, gy):\n",
        "        raise NotImplementedError()\n"
      ]
    },
    {
      "cell_type": "code",
      "execution_count": 15,
      "metadata": {
        "id": "MTx2gOsEDQWA"
      },
      "outputs": [],
      "source": [
        "\n",
        "class Square(Function):\n",
        "    def forward(self, x):\n",
        "        return x ** 2\n",
        "\n",
        "    def backward(self, gy):\n",
        "        x = self.inputs[0].data\n",
        "        gx = 2 * x * gy\n",
        "        return gx\n",
        "\n",
        "\n",
        "class Exp(Function):\n",
        "    def forward(self, x):\n",
        "        return np.exp(x)\n",
        "\n",
        "    def backward(self, gy):\n",
        "        x = self.inputs[0].data\n",
        "        gx = np.exp(x) * gy\n",
        "        return gx\n"
      ]
    },
    {
      "cell_type": "code",
      "execution_count": 16,
      "metadata": {
        "id": "Pf-HzEt2yBtA"
      },
      "outputs": [],
      "source": [
        "class Add(Function):\n",
        "    def forward(self, a, b):\n",
        "        y = a + b\n",
        "        return (y,)\n",
        "    \n",
        "    def backward(self, gy):\n",
        "        return gy, gy"
      ]
    },
    {
      "cell_type": "code",
      "execution_count": 17,
      "metadata": {},
      "outputs": [],
      "source": [
        "class Identical(Function):\n",
        "    def forward(self, x):\n",
        "        return x\n",
        "    \n",
        "    def backward(self, gy):\n",
        "        return gy # ??? 1 or gy"
      ]
    },
    {
      "cell_type": "code",
      "execution_count": 18,
      "metadata": {
        "id": "NBvCqaLSD0Tm"
      },
      "outputs": [],
      "source": [
        "def square(x):\n",
        "  return Square()(x)\n",
        "\n",
        "def exp(x):\n",
        "  return Exp()(x)\n",
        "\n",
        "def add(x0, x1):\n",
        "  return Add()(x0, x1)\n",
        "\n",
        "def identical(x):\n",
        "  return Identical()(x)"
      ]
    },
    {
      "cell_type": "code",
      "execution_count": 19,
      "metadata": {},
      "outputs": [
        {
          "name": "stdout",
          "output_type": "stream",
          "text": [
            "y=x+x=2x, f'(1)=2, but x.grad= 2.0\n"
          ]
        }
      ],
      "source": [
        "\n",
        "x = Variable(np.array(1.0))\n",
        "y = add(x, x)\n",
        "y.backward()\n",
        "print(\"y=x+x=2x, f'(1)=2, and we get x.grad=\", x.grad)\n",
        "\n"
      ]
    }
  ],
  "metadata": {
    "colab": {
      "include_colab_link": true,
      "provenance": []
    },
    "kernelspec": {
      "display_name": "build_dl_framework",
      "language": "python",
      "name": "python3"
    },
    "language_info": {
      "codemirror_mode": {
        "name": "ipython",
        "version": 3
      },
      "file_extension": ".py",
      "mimetype": "text/x-python",
      "name": "python",
      "nbconvert_exporter": "python",
      "pygments_lexer": "ipython3",
      "version": "3.9.19"
    }
  },
  "nbformat": 4,
  "nbformat_minor": 0
}
