{
  "cells": [
    {
      "cell_type": "markdown",
      "metadata": {
        "colab_type": "text",
        "id": "view-in-github"
      },
      "source": [
        "<a href=\"https://colab.research.google.com/github/zeekx/build_dl_framework/blob/master/steps/step09.ipynb\" target=\"_parent\"><img src=\"https://colab.research.google.com/assets/colab-badge.svg\" alt=\"Open In Colab\"/></a>"
      ]
    },
    {
      "cell_type": "code",
      "execution_count": 35,
      "metadata": {
        "id": "t_lOTQ6yDQV9"
      },
      "outputs": [],
      "source": [
        "import numpy as np"
      ]
    },
    {
      "cell_type": "code",
      "execution_count": 36,
      "metadata": {
        "id": "XO4z7ZmkDQV-"
      },
      "outputs": [],
      "source": [
        "class Variable:\n",
        "    def __init__(self, data):\n",
        "        if data is not None:\n",
        "          if not isinstance(data, np.ndarray):\n",
        "            raise TypeError('{} is not supported'.format(type(data)))\n",
        "\n",
        "        self.data = data\n",
        "        self.grad = None\n",
        "        self.creator = None\n",
        "\n",
        "\n",
        "    def set_creator(self, func):\n",
        "        self.creator = func\n",
        "\n",
        "\n",
        "# a -> f(a) -> b\n",
        "# Variable: b.creator -> f\n",
        "# b.creator -> f -> f.input -> a\n",
        "\n",
        "    def backward(self):\n",
        "        fs = [self.creator]\n",
        "        if self.grad is None:\n",
        "            self.grad = np.ones_like(self.data)\n",
        "        while fs:\n",
        "            f = fs.pop()\n",
        "            x, y = f.input, f.output\n",
        "            x.grad = f.backward(y.grad)\n",
        "\n",
        "            if x.creator is not None:\n",
        "                fs.append(x.creator)\n",
        "\n"
      ]
    },
    {
      "cell_type": "code",
      "execution_count": 37,
      "metadata": {
        "id": "iAIaqHDfIylW"
      },
      "outputs": [],
      "source": [
        "def as_array(x):\n",
        "    if np.isscalar(x):\n",
        "        return np.array(x)\n",
        "    return x"
      ]
    },
    {
      "cell_type": "code",
      "execution_count": 38,
      "metadata": {
        "id": "vFFMJsvnDQV_"
      },
      "outputs": [],
      "source": [
        "class Function:\n",
        "    def __call__(self, input):\n",
        "        self.input = input\n",
        "        x = input.data\n",
        "        y = self.forward(x)\n",
        "        output = Variable(as_array(y))\n",
        "        output.set_creator(self)\n",
        "        self.output = output\n",
        "        return output\n",
        "\n",
        "    def forward(self, x):\n",
        "        raise NotImplementedError()\n",
        "\n",
        "    def backward(self, gy):\n",
        "        raise NotImplementedError()\n"
      ]
    },
    {
      "cell_type": "code",
      "execution_count": 39,
      "metadata": {
        "id": "MTx2gOsEDQWA"
      },
      "outputs": [],
      "source": [
        "\n",
        "class Square(Function):\n",
        "    def forward(self, x):\n",
        "        return x ** 2\n",
        "\n",
        "    def backward(self, gy):\n",
        "        x = self.input.data\n",
        "        gx = 2 * x * gy\n",
        "        return gx\n",
        "\n",
        "\n",
        "class Exp(Function):\n",
        "    def forward(self, x):\n",
        "        return np.exp(x)\n",
        "\n",
        "    def backward(self, gy):\n",
        "        x = self.input.data\n",
        "        gx = np.exp(x) * gy\n",
        "        return gx\n"
      ]
    },
    {
      "cell_type": "code",
      "execution_count": 40,
      "metadata": {
        "id": "NBvCqaLSD0Tm"
      },
      "outputs": [],
      "source": [
        "def square(x):\n",
        "  return Square()(x)\n",
        "\n",
        "def exp(x):\n",
        "  return Exp()(x)"
      ]
    },
    {
      "cell_type": "markdown",
      "metadata": {
        "id": "acE3VRhvG1P-"
      },
      "source": [
        "Give a default grad value(array(1.0) for the last variable"
      ]
    },
    {
      "cell_type": "code",
      "execution_count": 43,
      "metadata": {
        "colab": {
          "base_uri": "https://localhost:8080/"
        },
        "id": "rZlx9M62G-Cn",
        "outputId": "09c1519b-c625-4e2e-fd28-912b23f5c0d4"
      },
      "outputs": [
        {
          "name": "stdout",
          "output_type": "stream",
          "text": [
            "x.grad\t 3.297442541400256\n"
          ]
        }
      ],
      "source": [
        "x = Variable(np.array(0.5))\n",
        "y = square(exp(square(x)))\n",
        "\n",
        "\n",
        "y.backward()\n",
        "\n",
        "print(\"x.grad\\t\", x.grad)"
      ]
    }
  ],
  "metadata": {
    "colab": {
      "include_colab_link": true,
      "provenance": []
    },
    "kernelspec": {
      "display_name": "build_dl_framework",
      "language": "python",
      "name": "python3"
    },
    "language_info": {
      "codemirror_mode": {
        "name": "ipython",
        "version": 3
      },
      "file_extension": ".py",
      "mimetype": "text/x-python",
      "name": "python",
      "nbconvert_exporter": "python",
      "pygments_lexer": "ipython3",
      "version": "3.9.19"
    }
  },
  "nbformat": 4,
  "nbformat_minor": 0
}
